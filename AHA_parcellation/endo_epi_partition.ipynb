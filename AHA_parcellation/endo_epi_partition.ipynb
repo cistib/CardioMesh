{
 "cells": [
  {
   "cell_type": "code",
   "execution_count": 255,
   "id": "6c8b97b1-a276-4151-ae6c-b06212950b74",
   "metadata": {},
   "outputs": [],
   "source": [
    "import numpy as np\n",
    "import copy\n",
    "import matplotlib.pyplot as plt\n",
    "from CardioMesh.CardiacMesh import Cardiac3DMesh"
   ]
  },
  {
   "cell_type": "code",
   "execution_count": 256,
   "id": "0b1bbe60-8d51-46b1-bae0-68b71abf5248",
   "metadata": {},
   "outputs": [],
   "source": [
    "ID = \"1000215\"\n",
    "\n",
    "fhm_mesh = Cardiac3DMesh(\n",
    "    filename=f\"/home/rodrigo/01_repos/CardiacCOMA/data/cardio/meshes/by_id/{ID}/models/FHM_time001.npy\",\n",
    "    faces_filename=\"/home/rodrigo/01_repos/CardioMesh/data/faces_fhm_10pct_decimation.csv\",\n",
    "    subpart_id_filename=\"/home/rodrigo/01_repos/CardioMesh/data/subpartIDs_FHM_10pct.txt\"\n",
    ")\n",
    "\n",
    "lv_subparts = (\"LV\")\n",
    "lv_mesh = fhm_mesh[\"LV\"]"
   ]
  },
  {
   "cell_type": "markdown",
   "id": "0c5c5b8a-2ee6-4b12-85b9-9977c554f21d",
   "metadata": {},
   "source": [
    "### Remove base region from LV mesh"
   ]
  },
  {
   "cell_type": "markdown",
   "id": "9e705acd-12e7-4a5e-823b-e176837423d5",
   "metadata": {},
   "source": [
    "Compute principal axes"
   ]
  },
  {
   "cell_type": "code",
   "execution_count": 222,
   "id": "3d6653a4-0305-4827-ad9b-b20261be8890",
   "metadata": {},
   "outputs": [
    {
     "name": "stdout",
     "output_type": "stream",
     "text": [
      "2758\n",
      "1638\n"
     ]
    }
   ],
   "source": [
    "# Compute the mean of the point cloud\n",
    "point_cloud = lv_mesh.v\n",
    "mean = np.mean(point_cloud, axis=0)\n",
    "\n",
    "# Subtract the mean from the point cloud to center it\n",
    "centered_point_cloud = point_cloud - mean\n",
    "\n",
    "# Compute the covariance matrix\n",
    "covariance_matrix = np.cov(centered_point_cloud, rowvar=False)\n",
    "\n",
    "# Compute the eigenvalues and eigenvectors of the covariance matrix\n",
    "eigenvalues, eigenvectors = np.linalg.eig(covariance_matrix)\n",
    "\n",
    "# Sort the eigenvalues and eigenvectors in descending order\n",
    "sorted_indices = np.argsort(eigenvalues)[::-1]\n",
    "eigenvalues = eigenvalues[sorted_indices]\n",
    "eigenvectors = eigenvectors[:, sorted_indices]\n",
    "\n",
    "# The eigenvectors represent the principal inertia axes\n",
    "principal_axes = eigenvectors\n",
    "### Compute principal inertia axes\n",
    "v_axis = principal_axes[:, 0] #\n",
    "h_axis_1 = principal_axes[:, 1] # aligned with aorta\n",
    "h_axis_2 = principal_axes[:, 2]\n",
    "\n",
    "####################################################################################################\n",
    "# HORTIZONTAL PLANES\n",
    "# Determine the position of the slicing planes along this axis\n",
    "min_pos = np.min(centered_point_cloud.dot(v_axis))\n",
    "max_pos = np.max(centered_point_cloud.dot(v_axis))\n",
    "# slice_thickness = (max_pos - min_pos) / (num_slices-1)\n",
    "fractions = [ -0.01, 0.75, 1.01 ]\n",
    "num_slices = len(fractions) - 1  \n",
    "slice_positions = [ min_pos+fraction*(max_pos-min_pos) for fraction in fractions ]\n",
    "\n",
    "condition_slice = {}\n",
    "for j in range(num_slices):\n",
    "    # Classify points based on which side of the slicing plane they fall\n",
    "    above_plane = centered_point_cloud.dot(v_axis) > slice_positions[j]\n",
    "    below_plane = centered_point_cloud.dot(v_axis) < slice_positions[j+1]\n",
    "    condition_slice[j] = above_plane & below_plane\n",
    "    \n",
    "print(condition_slice[0].sum())\n",
    "print(condition_slice[1].sum())"
   ]
  },
  {
   "cell_type": "code",
   "execution_count": 232,
   "id": "1e4abf1f-a00f-4545-b32d-93bb861c9a82",
   "metadata": {},
   "outputs": [],
   "source": [
    "all_indices = np.array(range(len(lv_mesh.v)))\n",
    "indices_without_top = set(all_indices[condition_slice[0]])\n",
    "vertex_mapping = { j: i for i, j in enumerate(all_indices[condition_slice[0]]) }\n",
    "vertex_reverse_mapping = { i: j for i, j in enumerate(all_indices[condition_slice[0]]) }"
   ]
  },
  {
   "cell_type": "markdown",
   "id": "d16d2d7b-002d-48f1-9330-26023242ea03",
   "metadata": {},
   "source": [
    "Create a mesh that keeps only the vertices not belong to the base, and computes a new mesh connectivity"
   ]
  },
  {
   "cell_type": "code",
   "execution_count": 233,
   "id": "df9addb3-b4cf-4d6e-ba0b-d4a59d1dacb0",
   "metadata": {},
   "outputs": [],
   "source": [
    "lv_without_top = copy.deepcopy(lv_mesh)\n",
    "\n",
    "# all_indices = np.array(range(len(lv_without_top.v)))\n",
    "indices_without_top = set(all_indices[condition_slice[0]])\n",
    "\n",
    "keep_face = np.zeros(len(lv_without_top.f)).astype(bool)\n",
    "\n",
    "for i, face in enumerate(lv_without_top.f):\n",
    "    keep_face[i] = all([vert in indices_without_top for vert in face])\n",
    "    \n",
    "lv_without_top.points = lv_without_top.points[condition_slice[0]]\n",
    "lv_without_top.triangles = lv_without_top.triangles[keep_face]\n",
    "\n",
    "for i, triangle in enumerate(lv_without_top.triangles):\n",
    "    \n",
    "    lv_without_top.triangles[i] = [ vertex_mapping[vert] for vert in triangle ]\n",
    "    # print(lv_without_top.triangles[i])"
   ]
  },
  {
   "cell_type": "markdown",
   "id": "5179bb23-82f6-4d47-9393-f6bf29b9b81b",
   "metadata": {},
   "source": [
    "Compute new edges and adjacency matrix, based on the triangles"
   ]
  },
  {
   "cell_type": "code",
   "execution_count": 234,
   "id": "337818e1-eda4-4a35-a9a0-c370c00996fb",
   "metadata": {},
   "outputs": [
    {
     "data": {
      "text/plain": [
       "<2758x2758 sparse matrix of type '<class 'numpy.float64'>'\n",
       "\twith 16256 stored elements in Compressed Sparse Column format>"
      ]
     },
     "execution_count": 234,
     "metadata": {},
     "output_type": "execute_result"
    }
   ],
   "source": [
    "from scipy import sparse as sp\n",
    "\n",
    "lv_without_top._edges = lv_without_top._edges_from_triangles(lv_without_top.triangles)\n",
    "\n",
    "lv_without_top._adj_matrix = sp.csc_matrix((\n",
    "    np.ones(len(lv_without_top._edges)),\n",
    "    ([x[0] for x in lv_without_top._edges], [x[1] for x in lv_without_top._edges]),\n",
    "))\n",
    "\n",
    "lv_without_top._adj_matrix"
   ]
  },
  {
   "cell_type": "markdown",
   "id": "5bc7862d-b7cd-4009-a7d1-20582366ea7f",
   "metadata": {},
   "source": [
    "Compute dictionary of neighbors-per-vertex"
   ]
  },
  {
   "cell_type": "code",
   "execution_count": 235,
   "id": "85dab3f2-2f52-4dd1-a0aa-5c071cc4b18f",
   "metadata": {},
   "outputs": [],
   "source": [
    "neighbors_dict = {}\n",
    "all_indices = all_indices = np.array(range(len(lv_without_top.v)))\n",
    "\n",
    "for i, _ in enumerate(lv_without_top.v):\n",
    "    neighbors_dict[i] = all_indices[np.array((lv_without_top.adj_matrix[:,i] > 0).todense()).flatten()]    "
   ]
  },
  {
   "cell_type": "markdown",
   "id": "b7abe0bd-fa6c-490f-9678-9785a2a77bf8",
   "metadata": {},
   "source": [
    "Find connected components to separate epi from endo:"
   ]
  },
  {
   "cell_type": "code",
   "execution_count": 236,
   "id": "650e5283-94bf-495f-a7e1-50ebfd01a7f0",
   "metadata": {},
   "outputs": [
    {
     "name": "stdout",
     "output_type": "stream",
     "text": [
      "1446\n",
      "1311\n",
      "1\n"
     ]
    }
   ],
   "source": [
    "def find_connected_components(graph):\n",
    "    visited = set()\n",
    "    components = []\n",
    "\n",
    "    def dfs(node, component):\n",
    "        visited.add(node)\n",
    "        component.append(node)\n",
    "        for neighbor in graph[node]:\n",
    "            if neighbor not in visited:\n",
    "                dfs(neighbor, component)\n",
    "\n",
    "    for node in graph:\n",
    "        if node not in visited:\n",
    "            component = []\n",
    "            dfs(node, component)\n",
    "            components.append(component)\n",
    "\n",
    "    return components\n",
    "\n",
    "# Usage\n",
    "components = find_connected_components(neighbors_dict)\n",
    "\n",
    "for component in components:\n",
    "    print(len(component))"
   ]
  },
  {
   "cell_type": "code",
   "execution_count": 237,
   "id": "fac4c9a6-350a-475d-b30e-31264ece5508",
   "metadata": {},
   "outputs": [],
   "source": [
    "# epi_endo_labels = np.zeros(len(lv_without_top.points))\n",
    "# epi_endo_labels[components[0]] = 100\n",
    "# epi_endo_labels[components[1]] = 200\n",
    "# \n",
    "# import meshio\n",
    "# meshio.write_points_cells(\n",
    "#     \"lv_mesh_with_epi_endo.vtk\",\n",
    "#     lv_without_top.points,\n",
    "#     cells={\"triangle\": np.array(lv_without_top.f)},\n",
    "#     point_data={\"subpartID\": epi_endo_labels},\n",
    "# )"
   ]
  },
  {
   "cell_type": "markdown",
   "id": "fc8079f8-2a25-4605-b444-3338f2769538",
   "metadata": {},
   "source": [
    "Map vertices in the subsetted mesh to vertex's ids from the original mesh"
   ]
  },
  {
   "cell_type": "code",
   "execution_count": 242,
   "id": "604da4fe-a2f1-4d2e-bed7-c7c5087e77ab",
   "metadata": {
    "tags": []
   },
   "outputs": [],
   "source": [
    "epi = [vertex_reverse_mapping[v] for v in components[0]]\n",
    "endo = [vertex_reverse_mapping[v] for v in components[1]]"
   ]
  },
  {
   "cell_type": "code",
   "execution_count": 253,
   "id": "df7eb63f-acf2-4a7b-b6ef-34167c6a654f",
   "metadata": {},
   "outputs": [],
   "source": [
    "epi_endo_labels = np.zeros(len(lv_mesh.points))\n",
    "epi_endo_labels[epi] = 1\n",
    "epi_endo_labels[endo] = 2"
   ]
  },
  {
   "cell_type": "code",
   "execution_count": 254,
   "id": "9db58cf9-e626-4f16-869a-f75b7f05e8a3",
   "metadata": {},
   "outputs": [],
   "source": [
    "meshio.write_points_cells(\n",
    "    \"lv_mesh_with_epi_endo.vtk\",\n",
    "    lv_mesh.points,\n",
    "    cells={\"triangle\": np.array(lv_mesh.f)},\n",
    "    point_data={\"subpartID\": epi_endo_labels},\n",
    ")"
   ]
  }
 ],
 "metadata": {
  "kernelspec": {
   "display_name": "Python 3 (ipykernel)",
   "language": "python",
   "name": "python3"
  },
  "language_info": {
   "codemirror_mode": {
    "name": "ipython",
    "version": 3
   },
   "file_extension": ".py",
   "mimetype": "text/x-python",
   "name": "python",
   "nbconvert_exporter": "python",
   "pygments_lexer": "ipython3",
   "version": "3.9.12"
  }
 },
 "nbformat": 4,
 "nbformat_minor": 5
}
