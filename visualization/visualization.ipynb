{
 "cells": [
  {
   "cell_type": "code",
   "execution_count": 32,
   "id": "f0a1f110-fa36-4ff7-a900-e6bee7d4df73",
   "metadata": {},
   "outputs": [],
   "source": [
    "import torch\n",
    "import numpy as np\n",
    "import os\n",
    "import pickle as pkl\n",
    "from copy import copy\n",
    "from typing import Dict, Union\n",
    "import CardiacMesh\n",
    "from CardiacMesh import Cardiac3DMesh"
   ]
  },
  {
   "cell_type": "code",
   "execution_count": 38,
   "id": "da549bc8-0f57-4120-a104-28edd45d2af7",
   "metadata": {},
   "outputs": [],
   "source": [
    "root_folder = f\"{os.environ['HOME']}/01_repos/CardiacCOMA/data/cardio/meshes\"\n",
    "# root_folder = \"/home/rodrigo/CISTIB/UKBB/data/meshes/FHM/Results\""
   ]
  },
  {
   "cell_type": "markdown",
   "id": "8669d4a7-d28a-41c2-b789-9ae794686407",
   "metadata": {},
   "source": [
    "Select (at most) $N$ subjects:"
   ]
  },
  {
   "cell_type": "code",
   "execution_count": 40,
   "id": "fa4fa106-b733-4f98-a50d-aa7cb768576d",
   "metadata": {},
   "outputs": [],
   "source": [
    "N = 1000\n",
    "ids = os.listdir(root_folder)\n",
    "ids = ids[:N]"
   ]
  },
  {
   "cell_type": "markdown",
   "id": "6bc7ac53-60b1-4192-94f3-8c82899e253d",
   "metadata": {},
   "source": [
    "# Mesh generator"
   ]
  },
  {
   "cell_type": "markdown",
   "id": "2159ca5e-0206-4f9a-999e-7ade8938f0cb",
   "metadata": {},
   "source": [
    "Load 3D meshes at ED (timeframe `001`)"
   ]
  },
  {
   "cell_type": "code",
   "execution_count": 12,
   "id": "f41553d6-e15f-4701-81a9-ab2f736e8c29",
   "metadata": {},
   "outputs": [],
   "source": [
    "def get_3d_mesh(ids, root_folder):\n",
    "    \n",
    "    for id in ids:\n",
    "        try:\n",
    "          npy_file = f\"{root_folder}/{id}/models/FHM_time001.npy\"\n",
    "          pc  = np.load(npy_file)\n",
    "          yield id, pc\n",
    "        except:\n",
    "          continue\n",
    "        "
   ]
  },
  {
   "cell_type": "code",
   "execution_count": 13,
   "id": "5b325632-172f-4e93-81b5-f24fb2541f59",
   "metadata": {},
   "outputs": [],
   "source": [
    "meshes_gen = get_3d_mesh(ids, root_folder)\n",
    "meshes = {}\n",
    "\n",
    "for id, mesh in meshes_gen:\n",
    "    meshes[id] = mesh        "
   ]
  },
  {
   "cell_type": "markdown",
   "id": "0475e54e-39a4-443f-a7fc-d1095a1321f6",
   "metadata": {},
   "source": [
    "___"
   ]
  },
  {
   "cell_type": "markdown",
   "id": "f598a547-07ad-4455-af5f-00bdb3ddfde6",
   "metadata": {},
   "source": [
    "# Apply Procrustes transforms"
   ]
  },
  {
   "cell_type": "code",
   "execution_count": 31,
   "id": "63f4ed81-27cb-4665-94ef-d1efb9337f24",
   "metadata": {},
   "outputs": [],
   "source": [
    "QSLIM_OUTPUT_10PCT = \"data/faces_and_downsampling_mtx_frac_0.1_full_heart.pkl\"\n",
    "PROCRUSTES_FILE = \"data/procrustes_transforms_FHM_35k.pkl\"\n",
    "procrustes_transforms = pkl.load(open(PROCRUSTES_FILE, \"rb\"))"
   ]
  },
  {
   "cell_type": "code",
   "execution_count": 37,
   "id": "e9efbbfd-8f20-4754-8c32-a260663501f5",
   "metadata": {},
   "outputs": [
    {
     "data": {
      "text/plain": [
       "array([[ 40.93693583,  -2.34215486,   2.82250658],\n",
       "       [ 25.54735976,  -5.88779846, -76.92301678],\n",
       "       [ 46.28188747, -17.79776513,  -4.14224227],\n",
       "       ...,\n",
       "       [ 19.0399027 ,  37.13969888,  13.43696795],\n",
       "       [ 13.21599531,  43.09471474,  13.61656523],\n",
       "       [ 12.38542294,  42.61489267,  16.89599939]])"
      ]
     },
     "execution_count": 37,
     "metadata": {},
     "output_type": "execute_result"
    }
   ],
   "source": [
    "id = \"1000215\"\n",
    "CardiacMesh.transform_mesh(meshes[id], **procrustes_transforms[id])"
   ]
  },
  {
   "cell_type": "markdown",
   "id": "b9350122-3132-4f6a-af54-7098f5e4051d",
   "metadata": {},
   "source": [
    "___"
   ]
  },
  {
   "cell_type": "markdown",
   "id": "17254e4e-aeaa-4fe8-9819-5c5b994e8abc",
   "metadata": {},
   "source": [
    "# Display transformed meshes"
   ]
  },
  {
   "cell_type": "code",
   "execution_count": 20,
   "id": "49ffb982-19d0-4b98-b6ab-ea59543af6b0",
   "metadata": {},
   "outputs": [],
   "source": [
    "import ipywidgets as widgets\n",
    "from ipywidgets import interact\n",
    "import pyvista as pv\n",
    "import random"
   ]
  },
  {
   "cell_type": "code",
   "execution_count": 28,
   "id": "9eeed573-7027-4e7e-bff0-24889b48a06a",
   "metadata": {},
   "outputs": [
    {
     "data": {
      "application/vnd.jupyter.widget-view+json": {
       "model_id": "8cacb3ed8a1a4e73b3f6bae41a4096cc",
       "version_major": 2,
       "version_minor": 0
      },
      "text/plain": [
       "interactive(children=(SelectMultiple(description='ids', options=('1004985', '1007167', '1007980', '1005995', '…"
      ]
     },
     "metadata": {},
     "output_type": "display_data"
    }
   ],
   "source": [
    "# sphere = vedo.Sphere(res=params[\"mesh_resolution\"]).to_trimesh()\n",
    "# conn = sphere.faces # connectivity\n",
    "# conn = np.c_[np.ones(conn.shape[0]) * 3, conn].astype(int)  # add column of 3, as required by PyVista\n",
    "\n",
    "pv.set_plot_theme(\"document\")\n",
    "\n",
    "faces, _ = pkl.load(open(QSLIM_OUTPUT_10PCT, \"rb\")).values()\n",
    "faces = np.c_[np.ones(faces.shape[0]) * 3, faces].astype(int)\n",
    "\n",
    "color_palette = list(pv.colors.color_names.values())\n",
    "random.shuffle(color_palette)\n",
    "\n",
    "\n",
    "def f(ids, rotated, traslated):\n",
    "                \n",
    "    pl = pv.Plotter(notebook=True, off_screen=False, polygon_smoothing=False)\n",
    "    \n",
    "    for i, id in enumerate(ids):\n",
    "      \n",
    "        mesh = meshes[id]\n",
    "        if rotated and not traslated:\n",
    "            mesh = CardiacMesh.transform_mesh(mesh, rotation=procrustes_transforms[id][\"rotation\"])\n",
    "        elif traslated and not rotated:\n",
    "            mesh = CardiacMesh.transform_mesh(mesh, traslation=procrustes_transforms[id][\"traslation\"])\n",
    "        elif traslated and rotated:\n",
    "            mesh = CardiacMesh.transform_mesh(mesh, **procrustes_transforms[id])\n",
    "        mesh = pv.PolyData(mesh, faces)\n",
    "          \n",
    "        pl.add_mesh(mesh, show_edges=False, point_size=1.5, color=color_palette[i], opacity=0.2)\n",
    "    \n",
    "    pl.show(interactive=True, interactive_update=True)\n",
    "    \n",
    "#interact(f, i=widgets.IntSlider(min=1,max=N))\n",
    "interact(f, \n",
    "    ids=widgets.SelectMultiple(options=ids),\n",
    "    rotated=widgets.ToggleButton(),\n",
    "    traslated=widgets.ToggleButton()\n",
    ");"
   ]
  },
  {
   "cell_type": "code",
   "execution_count": null,
   "id": "21f8749b-0fcc-42d0-b629-458a6e0ebeba",
   "metadata": {},
   "outputs": [],
   "source": []
  }
 ],
 "metadata": {
  "kernelspec": {
   "display_name": "Python 3 (ipykernel)",
   "language": "python",
   "name": "python3"
  },
  "language_info": {
   "codemirror_mode": {
    "name": "ipython",
    "version": 3
   },
   "file_extension": ".py",
   "mimetype": "text/x-python",
   "name": "python",
   "nbconvert_exporter": "python",
   "pygments_lexer": "ipython3",
   "version": "3.9.12"
  }
 },
 "nbformat": 4,
 "nbformat_minor": 5
}
