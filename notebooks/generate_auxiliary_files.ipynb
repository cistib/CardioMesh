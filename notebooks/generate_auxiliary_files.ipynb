{
 "cells": [
  {
   "cell_type": "code",
   "execution_count": 8,
   "id": "606ab146-d53f-471a-a70c-dbe9c8eb5647",
   "metadata": {},
   "outputs": [],
   "source": [
    "import os, sys, shlex\n",
    "MESH = \"data/template_full_heart_model.vtk\"\n",
    "CARDIAC_COMA_REPO = f\"{os.environ['HOME']}/01_repos/CardiacCOMA\"\n",
    "QSLIM_OUTPUT = f\"{CARDIAC_COMA_REPO}/data/cardio/faces_and_downsampling_mtx_frac_0.1_full_heart.pkl\"\n",
    "AUXILIARY_FACES_FILE = \"faces_fhm_10pct_decimation.csv\""
   ]
  },
  {
   "cell_type": "code",
   "execution_count": 9,
   "id": "202a832c-c915-46f9-b2a0-60a6bac5a6ee",
   "metadata": {},
   "outputs": [],
   "source": [
    "from subprocess import check_output\n",
    "REPO_ROOTDIR = check_output(shlex.split(\"git rev-parse --show-toplevel\")).strip().decode('ascii')\n",
    "os.chdir(REPO_ROOTDIR)\n",
    "\n",
    "from CardiacMesh import Cardiac3DMesh\n",
    "import pickle as pkl\n",
    "sys.path.append(f\"{os.environ['HOME']}/01_repos/CardioMesh\")"
   ]
  },
  {
   "cell_type": "code",
   "execution_count": 10,
   "id": "ec33d88d-2d08-4d33-a448-873fa607f282",
   "metadata": {},
   "outputs": [],
   "source": [
    "with open(QSLIM_OUTPUT, \"rb\") as ff:\n",
    "    \n",
    "    faces_dict = pkl.load(ff)    \n",
    "    faces = faces_dict['new_faces'].tolist()\n",
    "    \n",
    "    o_file = open(f\"{CARDIAC_COMA_REPO}/data/cardio/{AUXILIARY_FACES_FILE}\", \"wt\")  \n",
    "    \n",
    "    '''\n",
    "    idx1, idx2, idx3\n",
    "    idx4, idx5, idx6...\n",
    "    '''\n",
    "    \n",
    "    for face in faces:\n",
    "        face = [str(f) for f in face]\n",
    "        o_file.write(f\"{','.join(face)}\\n\")\n",
    "        \n",
    "    o_file.close()    "
   ]
  },
  {
   "cell_type": "code",
   "execution_count": 11,
   "id": "c783f5d7-5bb1-4c8b-9f74-d93e3c15d8ba",
   "metadata": {},
   "outputs": [],
   "source": [
    "full_heart_mesh = Cardiac3DMesh(filename=MESH)\n",
    "new_faces, downsampling_matrix = pkl.load(open(QSLIM_OUTPUT, \"rb\")).values()\n",
    "mesh_downsampled = full_heart_mesh.downsample_mesh(new_faces, downsampling_matrix)\n",
    "\n",
    "open(\"data/subpartIDs_FHM_fullres.txt\", \"wt\").write(\"\\n\".join(full_heart_mesh.subpartID));\n",
    "open(\"data/subpartIDs_FHM_10pct.txt\", \"wt\").write(\"\\n\".join(mesh_downsampled.subpartID));"
   ]
  }
 ],
 "metadata": {
  "kernelspec": {
   "display_name": "Python 3 (ipykernel)",
   "language": "python",
   "name": "python3"
  },
  "language_info": {
   "codemirror_mode": {
    "name": "ipython",
    "version": 3
   },
   "file_extension": ".py",
   "mimetype": "text/x-python",
   "name": "python",
   "nbconvert_exporter": "python",
   "pygments_lexer": "ipython3",
   "version": "3.9.12"
  }
 },
 "nbformat": 4,
 "nbformat_minor": 5
}
