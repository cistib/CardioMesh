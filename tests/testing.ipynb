{
 "cells": [
  {
   "cell_type": "markdown",
   "id": "65083cf7",
   "metadata": {},
   "source": [
    "# Code tests"
   ]
  },
  {
   "cell_type": "markdown",
   "id": "39fd4503",
   "metadata": {},
   "source": [
    "This Jupyter notebook aims to test the functionalities of this library. We recommend running it through each time a feature is added to make sure the modifications do not break previous functionalities."
   ]
  },
  {
   "cell_type": "code",
   "execution_count": 3,
   "id": "807af229",
   "metadata": {},
   "outputs": [],
   "source": [
    "import os\n",
    "import shlex\n",
    "from subprocess import check_output\n",
    "\n",
    "# Move to the root folder of the Git repository\n",
    "os.chdir(check_output(shlex.split(\"git rev-parse --show-toplevel\")).strip().decode('ascii'))"
   ]
  },
  {
   "cell_type": "code",
   "execution_count": 4,
   "id": "d3e6cd6b",
   "metadata": {},
   "outputs": [
    {
     "name": "stdout",
     "output_type": "stream",
     "text": [
      "/home/rodrigo/data/doctorado/repos/CardioMesh\n"
     ]
    }
   ],
   "source": [
    "from CardiacMesh import Cardiac3DMesh, Cardiac4DMesh, CardiacMeshPopulation\n",
    "import ipywidgets as widgets\n",
    "from ipywidgets import interact"
   ]
  },
  {
   "cell_type": "code",
   "execution_count": 5,
   "id": "96035296",
   "metadata": {},
   "outputs": [],
   "source": [
    "# Define a logger object\n",
    "\n",
    "import logging\n",
    "from datetime import datetime\n",
    "\n",
    "timestamp = datetime.now().strftime(\"%Y-%m-%d_%H-%M-%S\")\n",
    "logging.basicConfig(\n",
    "    level=logging.INFO,\n",
    "    format=\"%(asctime)s [%(levelname)s] %(message)s\",\n",
    "    handlers=[\n",
    "        logging.StreamHandler()\n",
    "    ]\n",
    ")\n",
    "logger = logging.getLogger()"
   ]
  },
  {
   "cell_type": "code",
   "execution_count": 6,
   "id": "1417699d",
   "metadata": {},
   "outputs": [],
   "source": [
    "from argparse import Namespace\n",
    "\n",
    "def load_config(yaml_config_file):\n",
    "    import yaml\n",
    "    with open(yaml_config_file) as config:\n",
    "        config = yaml.safe_load(config)    \n",
    "        # I am using a namespace instead of a dictionary mainly because it enables auto-completion\n",
    "        config = Namespace(**config)\n",
    "    return config"
   ]
  },
  {
   "cell_type": "code",
   "execution_count": 7,
   "id": "5511add9",
   "metadata": {},
   "outputs": [
    {
     "ename": "FileNotFoundError",
     "evalue": "[Errno 2] No such file or directory: 'config.yaml'",
     "output_type": "error",
     "traceback": [
      "\u001b[0;31m---------------------------------------------------------------------------\u001b[0m",
      "\u001b[0;31mFileNotFoundError\u001b[0m                         Traceback (most recent call last)",
      "\u001b[0;32m<ipython-input-7-b9621a28f4f4>\u001b[0m in \u001b[0;36m<module>\u001b[0;34m\u001b[0m\n\u001b[0;32m----> 1\u001b[0;31m \u001b[0mconfig\u001b[0m \u001b[0;34m=\u001b[0m \u001b[0mload_config\u001b[0m\u001b[0;34m(\u001b[0m\u001b[0;34m\"config.yaml\"\u001b[0m\u001b[0;34m)\u001b[0m\u001b[0;34m\u001b[0m\u001b[0;34m\u001b[0m\u001b[0m\n\u001b[0m",
      "\u001b[0;32m<ipython-input-6-1a97186bc16c>\u001b[0m in \u001b[0;36mload_config\u001b[0;34m(yaml_config_file)\u001b[0m\n\u001b[1;32m      3\u001b[0m \u001b[0;32mdef\u001b[0m \u001b[0mload_config\u001b[0m\u001b[0;34m(\u001b[0m\u001b[0myaml_config_file\u001b[0m\u001b[0;34m)\u001b[0m\u001b[0;34m:\u001b[0m\u001b[0;34m\u001b[0m\u001b[0;34m\u001b[0m\u001b[0m\n\u001b[1;32m      4\u001b[0m     \u001b[0;32mimport\u001b[0m \u001b[0myaml\u001b[0m\u001b[0;34m\u001b[0m\u001b[0;34m\u001b[0m\u001b[0m\n\u001b[0;32m----> 5\u001b[0;31m     \u001b[0;32mwith\u001b[0m \u001b[0mopen\u001b[0m\u001b[0;34m(\u001b[0m\u001b[0myaml_config_file\u001b[0m\u001b[0;34m)\u001b[0m \u001b[0;32mas\u001b[0m \u001b[0mconfig\u001b[0m\u001b[0;34m:\u001b[0m\u001b[0;34m\u001b[0m\u001b[0;34m\u001b[0m\u001b[0m\n\u001b[0m\u001b[1;32m      6\u001b[0m         \u001b[0mconfig\u001b[0m \u001b[0;34m=\u001b[0m \u001b[0myaml\u001b[0m\u001b[0;34m.\u001b[0m\u001b[0msafe_load\u001b[0m\u001b[0;34m(\u001b[0m\u001b[0mconfig\u001b[0m\u001b[0;34m)\u001b[0m\u001b[0;34m\u001b[0m\u001b[0;34m\u001b[0m\u001b[0m\n\u001b[1;32m      7\u001b[0m         \u001b[0;31m# I am using a namespace instead of a dictionary mainly because it enables auto-completion\u001b[0m\u001b[0;34m\u001b[0m\u001b[0;34m\u001b[0m\u001b[0;34m\u001b[0m\u001b[0m\n",
      "\u001b[0;31mFileNotFoundError\u001b[0m: [Errno 2] No such file or directory: 'config.yaml'"
     ]
    }
   ],
   "source": [
    "config = load_config(\"config.yaml\")"
   ]
  },
  {
   "cell_type": "code",
   "execution_count": null,
   "id": "112fcde1",
   "metadata": {},
   "outputs": [],
   "source": [
    "config.data_dir"
   ]
  },
  {
   "cell_type": "markdown",
   "id": "bb476e16",
   "metadata": {},
   "source": [
    "## `Cardiac3DMesh`"
   ]
  },
  {
   "cell_type": "markdown",
   "id": "e351a455",
   "metadata": {},
   "source": [
    "### Choose source VTK file"
   ]
  },
  {
   "cell_type": "code",
   "execution_count": null,
   "id": "08633502",
   "metadata": {},
   "outputs": [],
   "source": [
    "vtkfile_w = widgets.Dropdown(options={\n",
    "    \"Legacy (biventricular)\": \"tests/sample_data/legacy_biventricular_model/output.001.vtk\",\n",
    "    \"Full heart model\": \"tests/sample_data/full_heart_model/full_heart_model.vtk\",    \n",
    "});"
   ]
  },
  {
   "cell_type": "code",
   "execution_count": null,
   "id": "aabae2d7",
   "metadata": {},
   "outputs": [],
   "source": [
    "def test(vtk_file):    \n",
    "    mesh = Cardiac3DMesh(vtk_file)\n",
    "    print(\"Subparts: \", mesh.distinct_subparts)\n",
    "    print(\"Dataset version: \", mesh._dataset_version)\n",
    "    mesh = mesh[\"RV\"]\n",
    "    print(mesh)\n",
    "    # mesh.show()"
   ]
  },
  {
   "cell_type": "code",
   "execution_count": null,
   "id": "e5b47a02",
   "metadata": {},
   "outputs": [],
   "source": [
    "interact(test, vtk_file=vtkfile_w);"
   ]
  },
  {
   "cell_type": "code",
   "execution_count": null,
   "id": "6fbff064",
   "metadata": {},
   "outputs": [],
   "source": []
  },
  {
   "cell_type": "code",
   "execution_count": null,
   "id": "f5c7069f",
   "metadata": {},
   "outputs": [],
   "source": []
  },
  {
   "cell_type": "code",
   "execution_count": null,
   "id": "c5d61485",
   "metadata": {},
   "outputs": [],
   "source": []
  },
  {
   "cell_type": "code",
   "execution_count": null,
   "id": "a6bea3f4",
   "metadata": {},
   "outputs": [],
   "source": []
  },
  {
   "cell_type": "markdown",
   "id": "e08e9b7c",
   "metadata": {},
   "source": [
    "## `Cardiac4DMesh`\n",
    "_TO COMPLETE_"
   ]
  },
  {
   "cell_type": "code",
   "execution_count": null,
   "id": "125bf093",
   "metadata": {},
   "outputs": [],
   "source": [
    "data_rootdir = \"/media/rodrigo/bd2fea02-a909-49bc-9c6c-e0750941ca71/data/meshes/vtk_meshes\""
   ]
  },
  {
   "cell_type": "code",
   "execution_count": null,
   "id": "4e7553fe",
   "metadata": {},
   "outputs": [],
   "source": [
    "root_path_2ch = os.path.join(data_rootdir, \"2ch_full_cycle\")"
   ]
  },
  {
   "cell_type": "code",
   "execution_count": null,
   "id": "954ab04a",
   "metadata": {},
   "outputs": [],
   "source": [
    "subject_select_w = widgets.Dropdown(\n",
    "    options=sorted(os.listdir(root_path_2ch)),\n",
    "    description=\"Subject ID\"\n",
    ")\n",
    "display(subject_select_w)"
   ]
  },
  {
   "cell_type": "code",
   "execution_count": null,
   "id": "e55b8e53",
   "metadata": {},
   "outputs": [],
   "source": [
    "cardiac4d = Cardiac4DMesh(os.path.join(root_path_2ch, subject_select_w.value))"
   ]
  },
  {
   "cell_type": "code",
   "execution_count": null,
   "id": "5f86e48a",
   "metadata": {},
   "outputs": [],
   "source": [
    "def f(phase):\n",
    "    return cardiac4d[phase].show()\n",
    "\n",
    "interact(\n",
    "    f,     \n",
    "    phase=widgets.Dropdown(options=[\"ED\", \"ES\"])\n",
    ");"
   ]
  },
  {
   "cell_type": "markdown",
   "id": "3ed2d5b8",
   "metadata": {},
   "source": [
    "## `CardiacMeshPopulation`\n",
    "_TO COMPLETE_"
   ]
  },
  {
   "cell_type": "code",
   "execution_count": null,
   "id": "6aa863c8",
   "metadata": {},
   "outputs": [],
   "source": [
    "popu = CardiacMeshPopulation(root_path_2ch, logger=logger)"
   ]
  },
  {
   "cell_type": "code",
   "execution_count": null,
   "id": "377e0275",
   "metadata": {},
   "outputs": [],
   "source": []
  },
  {
   "cell_type": "code",
   "execution_count": null,
   "id": "bfe1222e",
   "metadata": {},
   "outputs": [],
   "source": []
  },
  {
   "cell_type": "code",
   "execution_count": null,
   "id": "e4f2a7b4",
   "metadata": {},
   "outputs": [],
   "source": []
  },
  {
   "cell_type": "code",
   "execution_count": null,
   "id": "aa5f6f26",
   "metadata": {},
   "outputs": [],
   "source": [
    "def f(individual, phase):\n",
    "    return popu[individual, phase].show()\n",
    "\n",
    "interact(\n",
    "    f, \n",
    "    individual=widgets.Dropdown(options=popu.ids), \n",
    "    phase=widgets.Dropdown(options=[\"ED\", \"ES\"])\n",
    ");"
   ]
  },
  {
   "cell_type": "code",
   "execution_count": null,
   "id": "8e355bb7",
   "metadata": {},
   "outputs": [],
   "source": []
  },
  {
   "cell_type": "code",
   "execution_count": null,
   "id": "33ee915e",
   "metadata": {},
   "outputs": [],
   "source": []
  }
 ],
 "metadata": {
  "kernelspec": {
   "display_name": "Coma",
   "language": "python",
   "name": "coma"
  },
  "language_info": {
   "codemirror_mode": {
    "name": "ipython",
    "version": 3
   },
   "file_extension": ".py",
   "mimetype": "text/x-python",
   "name": "python",
   "nbconvert_exporter": "python",
   "pygments_lexer": "ipython3",
   "version": "3.6.10"
  }
 },
 "nbformat": 4,
 "nbformat_minor": 5
}
