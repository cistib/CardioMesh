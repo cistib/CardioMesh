{
 "cells": [
  {
   "cell_type": "markdown",
   "id": "65083cf7",
   "metadata": {},
   "source": [
    "# Code tests"
   ]
  },
  {
   "cell_type": "markdown",
   "id": "39fd4503",
   "metadata": {},
   "source": [
    "This Jupyter notebook aims to test the functionalities of this library. We recommend running it through each time a feature is added to make sure the modifications do not break previous functionalities."
   ]
  },
  {
   "cell_type": "code",
   "execution_count": 13,
   "id": "d3e6cd6b",
   "metadata": {},
   "outputs": [],
   "source": [
    "from CardiacMesh import Cardiac3DMesh\n",
    "import os\n",
    "from subprocess import check_output\n",
    "import shlex\n",
    "import ipywidgets as widgets\n",
    "from ipywidgets import interact\n",
    "os.chdir(check_output(shlex.split(\"git rev-parse --show-toplevel\")).strip().decode('ascii'))"
   ]
  },
  {
   "cell_type": "markdown",
   "id": "bb476e16",
   "metadata": {},
   "source": [
    "## `Cardiac3DMesh`"
   ]
  },
  {
   "cell_type": "markdown",
   "id": "e351a455",
   "metadata": {},
   "source": [
    "### Choose source VTK file"
   ]
  },
  {
   "cell_type": "code",
   "execution_count": 28,
   "id": "08633502",
   "metadata": {},
   "outputs": [],
   "source": [
    "vtkfile_w = widgets.Dropdown(options={\n",
    "    \"Legacy (biventricular)\": \"tests/sample_data/legacy_biventricular_model//output.001.vtk\",\n",
    "    \"Full heart model\": \"tests/sample_data/full_heart_model/full_heart_model.vtk\",    \n",
    "});"
   ]
  },
  {
   "cell_type": "code",
   "execution_count": 33,
   "id": "aabae2d7",
   "metadata": {},
   "outputs": [],
   "source": [
    "def test(vtk_file):\n",
    "    kk = Cardiac3DMesh(vtk_file)\n",
    "    mesh = kk[\"RV\"]\n",
    "    mesh.show()"
   ]
  },
  {
   "cell_type": "code",
   "execution_count": 34,
   "id": "e5b47a02",
   "metadata": {},
   "outputs": [
    {
     "data": {
      "application/vnd.jupyter.widget-view+json": {
       "model_id": "b92eb268a29a452fadccffa0e099412b",
       "version_major": 2,
       "version_minor": 0
      },
      "text/plain": [
       "interactive(children=(Dropdown(description='vtk_file', options={'Legacy (biventricular)': 'tests/sample_data/l…"
      ]
     },
     "metadata": {},
     "output_type": "display_data"
    }
   ],
   "source": [
    "interact(test, vtk_file=vtkfile_w);"
   ]
  },
  {
   "cell_type": "markdown",
   "id": "c4f38241",
   "metadata": {},
   "source": [
    "_TO COMPLETE_"
   ]
  },
  {
   "cell_type": "code",
   "execution_count": null,
   "id": "2beb3d03",
   "metadata": {},
   "outputs": [],
   "source": []
  },
  {
   "cell_type": "code",
   "execution_count": null,
   "id": "6fbff064",
   "metadata": {},
   "outputs": [],
   "source": []
  },
  {
   "cell_type": "code",
   "execution_count": null,
   "id": "f5c7069f",
   "metadata": {},
   "outputs": [],
   "source": []
  },
  {
   "cell_type": "code",
   "execution_count": null,
   "id": "c5d61485",
   "metadata": {},
   "outputs": [],
   "source": []
  },
  {
   "cell_type": "code",
   "execution_count": null,
   "id": "a6bea3f4",
   "metadata": {},
   "outputs": [],
   "source": []
  },
  {
   "cell_type": "markdown",
   "id": "e08e9b7c",
   "metadata": {},
   "source": [
    "## `Cardiac4DMesh`\n",
    "_TO COMPLETE_"
   ]
  },
  {
   "cell_type": "code",
   "execution_count": null,
   "id": "125bf093",
   "metadata": {},
   "outputs": [],
   "source": []
  },
  {
   "cell_type": "code",
   "execution_count": null,
   "id": "c3763699",
   "metadata": {},
   "outputs": [],
   "source": []
  },
  {
   "cell_type": "code",
   "execution_count": null,
   "id": "a550e844",
   "metadata": {},
   "outputs": [],
   "source": []
  },
  {
   "cell_type": "code",
   "execution_count": null,
   "id": "47a2afc6",
   "metadata": {},
   "outputs": [],
   "source": []
  },
  {
   "cell_type": "code",
   "execution_count": null,
   "id": "3b88a489",
   "metadata": {},
   "outputs": [],
   "source": []
  },
  {
   "cell_type": "code",
   "execution_count": null,
   "id": "3e5f504e",
   "metadata": {},
   "outputs": [],
   "source": []
  },
  {
   "cell_type": "markdown",
   "id": "3ed2d5b8",
   "metadata": {},
   "source": [
    "## `CardiacMeshPopulation`\n",
    "_TO COMPLETE_"
   ]
  },
  {
   "cell_type": "code",
   "execution_count": null,
   "id": "6aa863c8",
   "metadata": {},
   "outputs": [],
   "source": []
  },
  {
   "cell_type": "code",
   "execution_count": null,
   "id": "aa5f6f26",
   "metadata": {},
   "outputs": [],
   "source": []
  },
  {
   "cell_type": "code",
   "execution_count": null,
   "id": "8e355bb7",
   "metadata": {},
   "outputs": [],
   "source": []
  },
  {
   "cell_type": "code",
   "execution_count": null,
   "id": "33ee915e",
   "metadata": {},
   "outputs": [],
   "source": []
  },
  {
   "cell_type": "code",
   "execution_count": null,
   "id": "d312a15b",
   "metadata": {},
   "outputs": [],
   "source": []
  },
  {
   "cell_type": "code",
   "execution_count": null,
   "id": "4efe8cde",
   "metadata": {},
   "outputs": [],
   "source": []
  }
 ],
 "metadata": {
  "kernelspec": {
   "display_name": "Coma",
   "language": "python",
   "name": "coma"
  },
  "language_info": {
   "codemirror_mode": {
    "name": "ipython",
    "version": 3
   },
   "file_extension": ".py",
   "mimetype": "text/x-python",
   "name": "python",
   "nbconvert_exporter": "python",
   "pygments_lexer": "ipython3",
   "version": "3.6.10"
  }
 },
 "nbformat": 4,
 "nbformat_minor": 5
}
