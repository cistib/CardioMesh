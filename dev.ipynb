{
 "cells": [
  {
   "cell_type": "code",
   "execution_count": 188,
   "id": "f0a1f110-fa36-4ff7-a900-e6bee7d4df73",
   "metadata": {},
   "outputs": [],
   "source": [
    "import torch\n",
    "import numpy as np\n",
    "import os\n",
    "import pickle as pkl\n",
    "from copy import copy"
   ]
  },
  {
   "cell_type": "code",
   "execution_count": 89,
   "id": "cddb5861-0906-4a59-a37e-d26b12cd8611",
   "metadata": {},
   "outputs": [],
   "source": [
    "from typing import Dict, Union"
   ]
  },
  {
   "cell_type": "code",
   "execution_count": 80,
   "id": "da549bc8-0f57-4120-a104-28edd45d2af7",
   "metadata": {},
   "outputs": [],
   "source": [
    "root_folder = \"data/cardio/Results\"\n",
    "root_folder = \"/home/rodrigo/CISTIB/UKBB/data/meshes/FHM/Results\""
   ]
  },
  {
   "cell_type": "code",
   "execution_count": 150,
   "id": "fa4fa106-b733-4f98-a50d-aa7cb768576d",
   "metadata": {},
   "outputs": [],
   "source": [
    "ids = os.listdir(root_folder)\n",
    "ids = ids[:1000]"
   ]
  },
  {
   "cell_type": "markdown",
   "id": "6bc7ac53-60b1-4192-94f3-8c82899e253d",
   "metadata": {},
   "source": [
    "# Mesh generator"
   ]
  },
  {
   "cell_type": "code",
   "execution_count": 154,
   "id": "f41553d6-e15f-4701-81a9-ab2f736e8c29",
   "metadata": {},
   "outputs": [],
   "source": [
    "def get_3d_mesh(ids, root_folder):\n",
    "    \n",
    "    for id in ids:\n",
    "        try:\n",
    "          npy_file = f\"{root_folder}/{id}/models/LV_time001.npy\"\n",
    "          pc  = np.load(npy_file)\n",
    "          yield id, pc\n",
    "        except:\n",
    "          continue\n",
    "        "
   ]
  },
  {
   "cell_type": "code",
   "execution_count": 155,
   "id": "5b325632-172f-4e93-81b5-f24fb2541f59",
   "metadata": {},
   "outputs": [],
   "source": [
    "meshes_gen = get_3d_mesh(ids, root_folder)\n",
    "meshes = {}\n",
    "\n",
    "for id, mesh in meshes_gen:\n",
    "    meshes[id] = mesh        "
   ]
  },
  {
   "cell_type": "markdown",
   "id": "0475e54e-39a4-443f-a7fc-d1095a1321f6",
   "metadata": {},
   "source": [
    "___"
   ]
  },
  {
   "cell_type": "markdown",
   "id": "f598a547-07ad-4455-af5f-00bdb3ddfde6",
   "metadata": {},
   "source": [
    "# Apply Procrustes transforms"
   ]
  },
  {
   "cell_type": "code",
   "execution_count": 157,
   "id": "5798e6fd-0758-47dc-b25b-ef2e51b80909",
   "metadata": {},
   "outputs": [],
   "source": [
    "procrustes_transforms = pkl.load(open(\"procrustes_transforms_35k.pkl\", \"rb\"))"
   ]
  },
  {
   "cell_type": "code",
   "execution_count": 186,
   "id": "df3b5eb2-97a4-474e-a4f3-c472e56ab37c",
   "metadata": {},
   "outputs": [],
   "source": [
    "def transform_mesh(mesh, rotation: Union[None, np.array] = None, traslation: Union[None, np.array] = None):\n",
    "    mesh = copy(mesh)\n",
    "    if traslation is not None:\n",
    "        mesh = mesh - traslation\n",
    "    if rotation is not None:\n",
    "        centroid = mesh.mean(axis=0)\n",
    "        mesh -= centroid\n",
    "        mesh = mesh.dot(rotation)\n",
    "        mesh += centroid\n",
    "    return mesh"
   ]
  },
  {
   "cell_type": "code",
   "execution_count": 103,
   "id": "e9efbbfd-8f20-4754-8c32-a260663501f5",
   "metadata": {},
   "outputs": [
    {
     "data": {
      "text/plain": [
       "array([[ 24.65671847,   4.0194862 ,  27.39147769],\n",
       "       [ 10.94219057,   1.82538719, -52.70756595],\n",
       "       [ 29.76329085, -11.48212941,  20.35052923],\n",
       "       ...,\n",
       "       [-25.35006027,  -0.80063413,   6.69747019],\n",
       "       [ 32.20795795,   7.10482452,  -1.91620522],\n",
       "       [  9.30463436,  -2.79676522, -52.40960088]])"
      ]
     },
     "execution_count": 103,
     "metadata": {},
     "output_type": "execute_result"
    }
   ],
   "source": [
    "id = \"1000215\"\n",
    "transform_mesh(meshes[id], **procrustes_transforms[id])"
   ]
  },
  {
   "cell_type": "markdown",
   "id": "b9350122-3132-4f6a-af54-7098f5e4051d",
   "metadata": {},
   "source": [
    "___"
   ]
  },
  {
   "cell_type": "markdown",
   "id": "17254e4e-aeaa-4fe8-9819-5c5b994e8abc",
   "metadata": {},
   "source": [
    "# Display transformed meshes"
   ]
  },
  {
   "cell_type": "code",
   "execution_count": 159,
   "id": "49ffb982-19d0-4b98-b6ab-ea59543af6b0",
   "metadata": {},
   "outputs": [],
   "source": [
    "import ipywidgets as widgets\n",
    "from ipywidgets import interact\n",
    "import pyvista as pv\n",
    "import random"
   ]
  },
  {
   "cell_type": "code",
   "execution_count": 190,
   "id": "9eeed573-7027-4e7e-bff0-24889b48a06a",
   "metadata": {},
   "outputs": [
    {
     "data": {
      "application/vnd.jupyter.widget-view+json": {
       "model_id": "953e33f4552540e186519b93cb5e0168",
       "version_major": 2,
       "version_minor": 0
      },
      "text/plain": [
       "A Jupyter Widget"
      ]
     },
     "metadata": {},
     "output_type": "display_data"
    }
   ],
   "source": [
    "# sphere = vedo.Sphere(res=params[\"mesh_resolution\"]).to_trimesh()\n",
    "# conn = sphere.faces # connectivity\n",
    "# conn = np.c_[np.ones(conn.shape[0]) * 3, conn].astype(int)  # add column of 3, as required by PyVista\n",
    "\n",
    "pv.set_plot_theme(\"document\")\n",
    "\n",
    "faces, _ = pkl.load(open(\"faces_and_downsampling_mtx_frac_0.1_LV.pkl\", \"rb\")).values()\n",
    "faces = np.c_[np.ones(faces.shape[0]) * 3, faces].astype(int)\n",
    "\n",
    "color_palette = list(pv.colors.color_names.values())\n",
    "random.shuffle(color_palette)\n",
    "\n",
    "\n",
    "def f(ids, rotated, traslated):\n",
    "    \n",
    "    \n",
    "        \n",
    "    pl = pv.Plotter(notebook=True, off_screen=False, polygon_smoothing=False)\n",
    "    \n",
    "    for i, id in enumerate(ids):\n",
    "      \n",
    "      mesh = meshes[id]\n",
    "      if rotated and not traslated:\n",
    "        mesh = transform_mesh(mesh, rotation=procrustes_transforms[id][\"rotation\"])\n",
    "      elif traslated and not rotated:\n",
    "        mesh = transform_mesh(mesh, traslation=procrustes_transforms[id][\"traslation\"])\n",
    "      elif traslated and rotated:\n",
    "        mesh = transform_mesh(mesh, **procrustes_transforms[id])\n",
    "      mesh = pv.PolyData(mesh, faces)\n",
    "        \n",
    "      pl.add_mesh(mesh, show_edges=False, point_size=1.5, color=color_palette[i], opacity=0.5)\n",
    "    pl.show(interactive=True, interactive_update=True)\n",
    "    \n",
    "#interact(f, i=widgets.IntSlider(min=1,max=N))\n",
    "interact(f, \n",
    "  ids=widgets.SelectMultiple(options=ids),\n",
    "  rotated=widgets.ToggleButton(),\n",
    "  traslated=widgets.ToggleButton()\n",
    ");"
   ]
  },
  {
   "cell_type": "code",
   "execution_count": null,
   "id": "3e4ef40b-1631-4e0d-88c6-21b2b10e1433",
   "metadata": {},
   "outputs": [],
   "source": []
  },
  {
   "cell_type": "code",
   "execution_count": null,
   "id": "2543ae30-e798-49b6-a7a2-b52f285b33b8",
   "metadata": {},
   "outputs": [],
   "source": []
  }
 ],
 "metadata": {
  "kernelspec": {
   "display_name": "cardio",
   "language": "python",
   "name": "cardio"
  },
  "language_info": {
   "codemirror_mode": {
    "name": "ipython",
    "version": 3
   },
   "file_extension": ".py",
   "mimetype": "text/x-python",
   "name": "python",
   "nbconvert_exporter": "python",
   "pygments_lexer": "ipython3",
   "version": "3.9.12"
  }
 },
 "nbformat": 4,
 "nbformat_minor": 5
}
